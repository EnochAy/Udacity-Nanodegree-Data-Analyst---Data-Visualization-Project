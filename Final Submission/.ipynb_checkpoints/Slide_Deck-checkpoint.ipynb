{
 "cells": [
  {
   "cell_type": "markdown",
   "id": "c1ef40fc",
   "metadata": {
    "slideshow": {
     "slide_type": "slide"
    }
   },
   "source": [
    "# Part II - Explanatory Slide Deck (Outcome)\n",
    "## Communicating Data Findings on Prosper Loan Data Exploration and Visualization\n",
    "## By Ayomide (Enoch) Fadeyi"
   ]
  },
  {
   "cell_type": "markdown",
   "id": "e2a3f2a1",
   "metadata": {
    "slideshow": {
     "slide_type": "subslide"
    }
   },
   "source": [
    "## Investigation Overview\n",
    "\n",
    "##  General Research Question guiding my analysis\n",
    "### What are the main driving factors of outcome of loan?\n",
    "\n",
    "\n",
    "> In part one of this project, the above question and a host of others have been answered during the exploratory data analysis stage. However, in this part two, I intend to carry out explanatory data analysis, explaining my findings using visuals and interpretation of these visuals. I will be adding a summary of key insights as contained in the README.md. This will helps my notebook to stay aligned to the key insights I want to include in my slide deck.\n",
    "\n",
    "## Key Insights for Presentation\n",
    "\n",
    "*** Those with low prosper rating are found to have highest rates of default in credits. \n",
    "\n",
    "  *** The business category tend to have larger amount. This implies that majority of the loans were gotten for business purposes.\n",
    "\n",
    "\n",
    "\n",
    "## Dataset Overview\n",
    "\n",
    "> ## Introduction\n",
    "\n",
    "> Introducing my dataset\n",
    "*** Loan Data from Prosper: This data set contains 113,937 observations (loans) with 81 features (variables/columns) on each loan, including loan amount, borrower rate (or interest rate), current loan status, borrower income, and many others. \n",
    "Here is the link to the data dictionary to understand the dataset's variables: \n",
    "https://docs.google.com/spreadsheets/d/1gDyi_L4UvIrLTEC6Wri5nbaMmkGmLQBk-Yx3z0XDEtI/edit#gid=0"
   ]
  },
  {
   "cell_type": "code",
   "execution_count": 4,
   "id": "793f6340",
   "metadata": {
    "slideshow": {
     "slide_type": "skip"
    }
   },
   "outputs": [],
   "source": [
    "# import all packages and set plots to be embedded inline\n",
    "import numpy as np\n",
    "import pandas as pd\n",
    "import matplotlib.pyplot as plt\n",
    "import seaborn as sns\n",
    "\n",
    "%matplotlib inline\n",
    "\n",
    "# suppress warnings from final output\n",
    "import warnings\n",
    "warnings.simplefilter(\"ignore\")"
   ]
  },
  {
   "cell_type": "code",
   "execution_count": 5,
   "id": "c43c479c",
   "metadata": {
    "slideshow": {
     "slide_type": "skip"
    }
   },
   "outputs": [],
   "source": [
    "# load in the dataset into a pandas dataframe\n",
    "df = pd.read_csv(\"C:/Users/USER/Desktop/prosperLoanData.csv\")"
   ]
  },
  {
   "cell_type": "code",
   "execution_count": 6,
   "id": "889856d6",
   "metadata": {
    "slideshow": {
     "slide_type": "skip"
    }
   },
   "outputs": [],
   "source": [
    "target_features =  [\n",
    "    'Term', 'LoanStatus', 'BorrowerRate', 'ProsperRating (Alpha)', 'ListingCategory (numeric)', 'EmploymentStatus',\n",
    "    'DelinquenciesLast7Years', 'StatedMonthlyIncome', 'TotalProsperLoans', 'LoanOriginalAmount',\n",
    "    'LoanOriginationDate', 'Recommendations', 'Investors'\n",
    "]"
   ]
  },
  {
   "cell_type": "code",
   "execution_count": 7,
   "id": "b07d9716",
   "metadata": {
    "slideshow": {
     "slide_type": "skip"
    }
   },
   "outputs": [],
   "source": [
    "target_df = df[target_features]"
   ]
  },
  {
   "cell_type": "code",
   "execution_count": 8,
   "id": "54d1232c",
   "metadata": {
    "slideshow": {
     "slide_type": "skip"
    }
   },
   "outputs": [
    {
     "data": {
      "text/html": [
       "<div>\n",
       "<style scoped>\n",
       "    .dataframe tbody tr th:only-of-type {\n",
       "        vertical-align: middle;\n",
       "    }\n",
       "\n",
       "    .dataframe tbody tr th {\n",
       "        vertical-align: top;\n",
       "    }\n",
       "\n",
       "    .dataframe thead th {\n",
       "        text-align: right;\n",
       "    }\n",
       "</style>\n",
       "<table border=\"1\" class=\"dataframe\">\n",
       "  <thead>\n",
       "    <tr style=\"text-align: right;\">\n",
       "      <th></th>\n",
       "      <th>Term</th>\n",
       "      <th>LoanStatus</th>\n",
       "      <th>BorrowerRate</th>\n",
       "      <th>ProsperRating (Alpha)</th>\n",
       "      <th>ListingCategory (numeric)</th>\n",
       "      <th>EmploymentStatus</th>\n",
       "      <th>DelinquenciesLast7Years</th>\n",
       "      <th>StatedMonthlyIncome</th>\n",
       "      <th>TotalProsperLoans</th>\n",
       "      <th>LoanOriginalAmount</th>\n",
       "      <th>LoanOriginationDate</th>\n",
       "      <th>Recommendations</th>\n",
       "      <th>Investors</th>\n",
       "    </tr>\n",
       "  </thead>\n",
       "  <tbody>\n",
       "    <tr>\n",
       "      <th>0</th>\n",
       "      <td>36</td>\n",
       "      <td>Completed</td>\n",
       "      <td>0.1580</td>\n",
       "      <td>NaN</td>\n",
       "      <td>0</td>\n",
       "      <td>Self-employed</td>\n",
       "      <td>4.0</td>\n",
       "      <td>3083.333333</td>\n",
       "      <td>NaN</td>\n",
       "      <td>9425</td>\n",
       "      <td>2007-09-12 00:00:00</td>\n",
       "      <td>0</td>\n",
       "      <td>258</td>\n",
       "    </tr>\n",
       "    <tr>\n",
       "      <th>1</th>\n",
       "      <td>36</td>\n",
       "      <td>Current</td>\n",
       "      <td>0.0920</td>\n",
       "      <td>A</td>\n",
       "      <td>2</td>\n",
       "      <td>Employed</td>\n",
       "      <td>0.0</td>\n",
       "      <td>6125.000000</td>\n",
       "      <td>NaN</td>\n",
       "      <td>10000</td>\n",
       "      <td>2014-03-03 00:00:00</td>\n",
       "      <td>0</td>\n",
       "      <td>1</td>\n",
       "    </tr>\n",
       "    <tr>\n",
       "      <th>2</th>\n",
       "      <td>36</td>\n",
       "      <td>Completed</td>\n",
       "      <td>0.2750</td>\n",
       "      <td>NaN</td>\n",
       "      <td>0</td>\n",
       "      <td>Not available</td>\n",
       "      <td>0.0</td>\n",
       "      <td>2083.333333</td>\n",
       "      <td>NaN</td>\n",
       "      <td>3001</td>\n",
       "      <td>2007-01-17 00:00:00</td>\n",
       "      <td>0</td>\n",
       "      <td>41</td>\n",
       "    </tr>\n",
       "    <tr>\n",
       "      <th>3</th>\n",
       "      <td>36</td>\n",
       "      <td>Current</td>\n",
       "      <td>0.0974</td>\n",
       "      <td>A</td>\n",
       "      <td>16</td>\n",
       "      <td>Employed</td>\n",
       "      <td>14.0</td>\n",
       "      <td>2875.000000</td>\n",
       "      <td>NaN</td>\n",
       "      <td>10000</td>\n",
       "      <td>2012-11-01 00:00:00</td>\n",
       "      <td>0</td>\n",
       "      <td>158</td>\n",
       "    </tr>\n",
       "    <tr>\n",
       "      <th>4</th>\n",
       "      <td>36</td>\n",
       "      <td>Current</td>\n",
       "      <td>0.2085</td>\n",
       "      <td>D</td>\n",
       "      <td>2</td>\n",
       "      <td>Employed</td>\n",
       "      <td>0.0</td>\n",
       "      <td>9583.333333</td>\n",
       "      <td>1.0</td>\n",
       "      <td>15000</td>\n",
       "      <td>2013-09-20 00:00:00</td>\n",
       "      <td>0</td>\n",
       "      <td>20</td>\n",
       "    </tr>\n",
       "  </tbody>\n",
       "</table>\n",
       "</div>"
      ],
      "text/plain": [
       "   Term LoanStatus  BorrowerRate ProsperRating (Alpha)  \\\n",
       "0    36  Completed        0.1580                   NaN   \n",
       "1    36    Current        0.0920                     A   \n",
       "2    36  Completed        0.2750                   NaN   \n",
       "3    36    Current        0.0974                     A   \n",
       "4    36    Current        0.2085                     D   \n",
       "\n",
       "   ListingCategory (numeric) EmploymentStatus  DelinquenciesLast7Years  \\\n",
       "0                          0    Self-employed                      4.0   \n",
       "1                          2         Employed                      0.0   \n",
       "2                          0    Not available                      0.0   \n",
       "3                         16         Employed                     14.0   \n",
       "4                          2         Employed                      0.0   \n",
       "\n",
       "   StatedMonthlyIncome  TotalProsperLoans  LoanOriginalAmount  \\\n",
       "0          3083.333333                NaN                9425   \n",
       "1          6125.000000                NaN               10000   \n",
       "2          2083.333333                NaN                3001   \n",
       "3          2875.000000                NaN               10000   \n",
       "4          9583.333333                1.0               15000   \n",
       "\n",
       "   LoanOriginationDate  Recommendations  Investors  \n",
       "0  2007-09-12 00:00:00                0        258  \n",
       "1  2014-03-03 00:00:00                0          1  \n",
       "2  2007-01-17 00:00:00                0         41  \n",
       "3  2012-11-01 00:00:00                0        158  \n",
       "4  2013-09-20 00:00:00                0         20  "
      ]
     },
     "execution_count": 8,
     "metadata": {},
     "output_type": "execute_result"
    }
   ],
   "source": [
    "target_df.head()"
   ]
  },
  {
   "cell_type": "code",
   "execution_count": 9,
   "id": "b496a1b0",
   "metadata": {
    "slideshow": {
     "slide_type": "skip"
    }
   },
   "outputs": [],
   "source": [
    "target_df = target_df.dropna(subset=['ProsperRating (Alpha)']).reset_index() # Drop missing values in Prosper Rating"
   ]
  },
  {
   "cell_type": "code",
   "execution_count": 10,
   "id": "33a05800",
   "metadata": {
    "slideshow": {
     "slide_type": "skip"
    }
   },
   "outputs": [],
   "source": [
    "# Convert LoanOriginationDate to datetime datatype\n",
    "target_df['LoanOriginationDate'] = pd.to_datetime(target_df['LoanOriginationDate'])"
   ]
  },
  {
   "cell_type": "code",
   "execution_count": 11,
   "id": "ba4e724c",
   "metadata": {
    "slideshow": {
     "slide_type": "skip"
    }
   },
   "outputs": [],
   "source": [
    "target_df['TotalProsperLoans'] = target_df['TotalProsperLoans'].fillna(0) #fill in missing values Total Prosper Loan"
   ]
  },
  {
   "cell_type": "markdown",
   "id": "77b14dc9",
   "metadata": {
    "slideshow": {
     "slide_type": "slide"
    }
   },
   "source": [
    "### Observation 1\n",
    "\n",
    "The majority of borrowers are employed.\n",
    "It is worthy of note that full-time and self employed workers \n",
    "request for more loans than the rest."
   ]
  },
  {
   "cell_type": "markdown",
   "id": "a6b75e8a",
   "metadata": {
    "slideshow": {
     "slide_type": "slide"
    }
   },
   "source": [
    "### Visualization 1"
   ]
  },
  {
   "cell_type": "code",
   "execution_count": 12,
   "id": "e6f648b3",
   "metadata": {
    "slideshow": {
     "slide_type": "slide"
    }
   },
   "outputs": [
    {
     "data": {
      "image/png": "[encoded data removed]",
      "text/plain": [
       "<Figure size 432x288 with 1 Axes>"
      ]
     },
     "metadata": {
      "needs_background": "light"
     },
     "output_type": "display_data"
    }
   ],
   "source": [
    "#freq_count = target_df['index'].value_counts()\n",
    "# Setting color\n",
    "base_color = sns.color_palette()[0]\n",
    "sns.countplot(data=target_df, x='EmploymentStatus', color = base_color )\n",
    "plt.xticks(rotation = 90);"
   ]
  },
  {
   "cell_type": "code",
   "execution_count": 13,
   "id": "7c99f86a",
   "metadata": {
    "slideshow": {
     "slide_type": "skip"
    }
   },
   "outputs": [
    {
     "data": {
      "text/plain": [
       "Completed    19664\n",
       "Defaulted     6341\n",
       "Name: LoanStatus, dtype: int64"
      ]
     },
     "execution_count": 13,
     "metadata": {},
     "output_type": "execute_result"
    }
   ],
   "source": [
    "# Here, I'm just trying to restructure the Loan Status variable in the data\n",
    "condition = (target_df['LoanStatus'] == 'Completed') | (target_df['LoanStatus'] == 'Defaulted') |\\\n",
    "                  (target_df['LoanStatus'] == 'Chargedoff')\n",
    "target_df = target_df[condition]\n",
    "\n",
    "def change_to_defaulted(row):\n",
    "    if row['LoanStatus'] == 'Chargedoff':\n",
    "        return 'Defaulted'\n",
    "    else:\n",
    "        return row['LoanStatus']\n",
    "    \n",
    "target_df['LoanStatus'] = target_df.apply(change_to_defaulted, axis=1)\n",
    "target_df['LoanStatus'].value_counts()"
   ]
  },
  {
   "cell_type": "markdown",
   "id": "d0c5771f",
   "metadata": {
    "slideshow": {
     "slide_type": "skip"
    }
   },
   "source": [
    "### After transforming dataset, we have 19,664 completed loans and 6,341 defaulted."
   ]
  },
  {
   "cell_type": "code",
   "execution_count": 14,
   "id": "93182608",
   "metadata": {
    "slideshow": {
     "slide_type": "skip"
    }
   },
   "outputs": [],
   "source": [
    "categories = {1: 'Debt Consolidation', 2: 'Home Improvement', 3: 'Business', 6: 'Auto', 7: 'Other'}\n",
    "def reduce_categories(row):\n",
    "    loan_category = row['ListingCategory (numeric)']\n",
    "    if  loan_category in categories:\n",
    "        return categories[loan_category]\n",
    "    else:\n",
    "        return categories[7]\n",
    "    \n",
    "target_df['ListingCategory (numeric)'] = target_df.apply(reduce_categories, axis=1)\n",
    "listing_categories = target_df['ListingCategory (numeric)'].value_counts()"
   ]
  },
  {
   "cell_type": "markdown",
   "id": "1bb99788",
   "metadata": {
    "slideshow": {
     "slide_type": "slide"
    }
   },
   "source": [
    "### Observation 2\n",
    "As seen in the below visual, there is a significant difference between the completed Loan and defaulted Loan of employed and unemployed. The employed tend to complete their loans than the unemployed"
   ]
  },
  {
   "cell_type": "markdown",
   "id": "5d6c1170",
   "metadata": {
    "slideshow": {
     "slide_type": "slide"
    }
   },
   "source": [
    "### Visualization 2"
   ]
  },
  {
   "cell_type": "code",
   "execution_count": 15,
   "id": "95c4122f",
   "metadata": {
    "slideshow": {
     "slide_type": "slide"
    }
   },
   "outputs": [
    {
     "data": {
      "image/png": "[encoded data removed]",
      "text/plain": [
       "<Figure size 432x288 with 1 Axes>"
      ]
     },
     "metadata": {
      "needs_background": "light"
     },
     "output_type": "display_data"
    }
   ],
   "source": [
    "sns.countplot(x = 'LoanStatus', hue = 'EmploymentStatus', data = target_df, color=base_color, palette = 'RdYlGn_r');"
   ]
  },
  {
   "cell_type": "markdown",
   "id": "578eaf1e",
   "metadata": {
    "slideshow": {
     "slide_type": "slide"
    }
   },
   "source": [
    "### Observation 3\n",
    "\n",
    "1. Except for the lowest ratings defaulted credits tend to be larger than completed.\n",
    "2. Most of the defaulted credits comes from individuals with low Prosper rating."
   ]
  },
  {
   "cell_type": "markdown",
   "id": "320bffd9",
   "metadata": {
    "slideshow": {
     "slide_type": "slide"
    }
   },
   "source": [
    "### Visualization 3"
   ]
  },
  {
   "cell_type": "code",
   "execution_count": 16,
   "id": "e8187488",
   "metadata": {
    "slideshow": {
     "slide_type": "slide"
    }
   },
   "outputs": [
    {
     "data": {
      "text/plain": [
       "<seaborn.axisgrid.FacetGrid at 0x14002a2ff10>"
      ]
     },
     "execution_count": 16,
     "metadata": {},
     "output_type": "execute_result"
    },
    {
     "data": {
      "image/png": "[encoded data removed]",
      "text/plain": [
       "<Figure size 576x288 with 2 Axes>"
      ]
     },
     "metadata": {
      "needs_background": "light"
     },
     "output_type": "display_data"
    }
   ],
   "source": [
    "facet_boxplot = sns.FacetGrid(data = target_df, col = 'LoanStatus', size = 4)\n",
    "facet_boxplot.map(sns.boxplot, 'ProsperRating (Alpha)', 'LoanOriginalAmount')"
   ]
  },
  {
   "cell_type": "markdown",
   "id": "ccea6e94",
   "metadata": {
    "slideshow": {
     "slide_type": "slide"
    }
   },
   "source": [
    "### Observation 4\n",
    "\n",
    "1. Business listing category have larger amount of completed loans.\n",
    "2. Home improvement have larger amount of defauled loans."
   ]
  },
  {
   "cell_type": "markdown",
   "id": "11779bbc",
   "metadata": {
    "slideshow": {
     "slide_type": "slide"
    }
   },
   "source": [
    "# Visualization 4"
   ]
  },
  {
   "cell_type": "code",
   "execution_count": 17,
   "id": "13286028",
   "metadata": {
    "slideshow": {
     "slide_type": "slide"
    }
   },
   "outputs": [
    {
     "data": {
      "image/png": "[encoded data removed]",
      "text/plain": [
       "<Figure size 432x288 with 1 Axes>"
      ]
     },
     "metadata": {
      "needs_background": "light"
     },
     "output_type": "display_data"
    }
   ],
   "source": [
    "sns.violinplot(data=target_df, y='LoanOriginalAmount', x='LoanStatus', hue = 'ListingCategory (numeric)', color=base_color, inner=None, figsize = [20, 18]);"
   ]
  }
 ],
 "metadata": {
  "celltoolbar": "Slideshow",
  "kernelspec": {
   "display_name": "Python 3 (ipykernel)",
   "language": "python",
   "name": "python3"
  },
  "language_info": {
   "codemirror_mode": {
    "name": "ipython",
    "version": 3
   },
   "file_extension": ".py",
   "mimetype": "text/x-python",
   "name": "python",
   "nbconvert_exporter": "python",
   "pygments_lexer": "ipython3",
   "version": "3.9.12"
  }
 },
 "nbformat": 4,
 "nbformat_minor": 5
}
